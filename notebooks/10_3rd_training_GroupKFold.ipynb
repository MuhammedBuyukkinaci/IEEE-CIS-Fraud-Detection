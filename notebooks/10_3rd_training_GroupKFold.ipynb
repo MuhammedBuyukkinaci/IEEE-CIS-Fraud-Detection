{
 "cells": [
  {
   "cell_type": "code",
   "execution_count": 19,
   "metadata": {},
   "outputs": [],
   "source": [
    "import pandas as pd\n",
    "import numpy as np\n",
    "import dask.dataframe as dd\n",
    "import missingno as msno\n",
    "import seaborn as sns\n",
    "import matplotlib.pyplot as plt\n",
    "from scipy import stats\n",
    "from tqdm import tqdm_notebook\n",
    "np.set_printoptions(suppress=True)\n",
    "from sklearn import preprocessing\n",
    "from tqdm import tqdm\n",
    "import decimal\n",
    "from random import shuffle\n",
    "from time import sleep\n",
    "tqdm.pandas()\n",
    "from sklearn.preprocessing import LabelEncoder\n",
    "import gc\n",
    "import datetime\n",
    "from sklearn.model_selection import train_test_split, KFold, GroupKFold,StratifiedKFold\n",
    "import os\n",
    "from sklearn.metrics import roc_auc_score\n",
    "plt.style.use('ggplot')\n",
    "np.set_printoptions(suppress=True)\n",
    "import random\n",
    "import lightgbm as lgb"
   ]
  },
  {
   "cell_type": "code",
   "execution_count": 2,
   "metadata": {},
   "outputs": [],
   "source": [
    "#Always seed the randomness of this universe\n",
    "def seed_everything(seed=51):\n",
    "    random.seed(seed)\n",
    "    os.environ['PYTHONHASHSEED'] = str(seed)\n",
    "    np.random.seed(seed)"
   ]
  },
  {
   "cell_type": "code",
   "execution_count": 3,
   "metadata": {},
   "outputs": [],
   "source": [
    "seed_everything(seed=51)"
   ]
  },
  {
   "cell_type": "code",
   "execution_count": 4,
   "metadata": {},
   "outputs": [],
   "source": [
    "pd.set_option('display.max_rows', 1000)\n",
    "pd.set_option('display.max_columns', 1000)"
   ]
  },
  {
   "cell_type": "code",
   "execution_count": 5,
   "metadata": {},
   "outputs": [
    {
     "name": "stdout",
     "output_type": "stream",
     "text": [
      "train finished\n",
      "CPU times: user 37.5 s, sys: 3.08 s, total: 40.5 s\n",
      "Wall time: 40.5 s\n"
     ]
    }
   ],
   "source": [
    "%%time\n",
    "train = pd.read_csv('../input/train4.csv')\n",
    "print(\"train finished\")"
   ]
  },
  {
   "cell_type": "code",
   "execution_count": 6,
   "metadata": {},
   "outputs": [
    {
     "name": "stdout",
     "output_type": "stream",
     "text": [
      "test finished\n",
      "CPU times: user 32.8 s, sys: 2.68 s, total: 35.5 s\n",
      "Wall time: 35.5 s\n"
     ]
    }
   ],
   "source": [
    "%%time\n",
    "test = pd.read_csv('../input/test4.csv')\n",
    "print(\"test finished\")"
   ]
  },
  {
   "cell_type": "code",
   "execution_count": 7,
   "metadata": {},
   "outputs": [
    {
     "name": "stdout",
     "output_type": "stream",
     "text": [
      "(590540, 805) (506691, 804) (506691, 2)\n"
     ]
    }
   ],
   "source": [
    "#sample_submission\n",
    "sample_submission = pd.read_csv('../input/sample_submission.csv')\n",
    "print(train.shape,test.shape,sample_submission.shape)"
   ]
  },
  {
   "cell_type": "code",
   "execution_count": 8,
   "metadata": {},
   "outputs": [
    {
     "name": "stdout",
     "output_type": "stream",
     "text": [
      "(590540, 804) (506691, 804)\n"
     ]
    }
   ],
   "source": [
    "y = train['isFraud']\n",
    "del train['isFraud']\n",
    "gc.collect()\n",
    "print(train.shape,test.shape)"
   ]
  },
  {
   "cell_type": "code",
   "execution_count": 10,
   "metadata": {},
   "outputs": [],
   "source": [
    "importances = pd.read_csv('../importances/importances1.csv')"
   ]
  },
  {
   "cell_type": "code",
   "execution_count": 11,
   "metadata": {},
   "outputs": [
    {
     "name": "stdout",
     "output_type": "stream",
     "text": [
      "(804, 7)\n"
     ]
    }
   ],
   "source": [
    "print(importances.shape)"
   ]
  },
  {
   "cell_type": "code",
   "execution_count": 12,
   "metadata": {},
   "outputs": [],
   "source": [
    "importances = importances[:700]"
   ]
  },
  {
   "cell_type": "code",
   "execution_count": 13,
   "metadata": {},
   "outputs": [],
   "source": [
    "features = [x for x in list(importances['index']) if x not in ['TransactionID','TransactionDT']]"
   ]
  },
  {
   "cell_type": "code",
   "execution_count": 14,
   "metadata": {},
   "outputs": [],
   "source": [
    "train = train[features]\n",
    "test = test[features]"
   ]
  },
  {
   "cell_type": "code",
   "execution_count": 15,
   "metadata": {},
   "outputs": [
    {
     "data": {
      "text/plain": [
       "14"
      ]
     },
     "execution_count": 15,
     "metadata": {},
     "output_type": "execute_result"
    }
   ],
   "source": [
    "gc.collect()"
   ]
  },
  {
   "cell_type": "code",
   "execution_count": 16,
   "metadata": {},
   "outputs": [
    {
     "name": "stdout",
     "output_type": "stream",
     "text": [
      "(590540, 698) (506691, 698)\n"
     ]
    }
   ],
   "source": [
    "print(train.shape,test.shape)"
   ]
  },
  {
   "cell_type": "code",
   "execution_count": 21,
   "metadata": {},
   "outputs": [],
   "source": [
    "########################### Model params\n",
    "lgb_params = \n",
    "{\n",
    "'objective':'binary',\n",
    "'boosting_type':'gbdt',\n",
    "'metric':'auc',\n",
    "'n_jobs':-1,\n",
    "'learning_rate':0.02,\n",
    "'num_leaves': 2**8,\n",
    "'max_depth':12,\n",
    "'tree_learner':'serial',\n",
    "'colsample_bytree': 0.5,\n",
    "'subsample_freq':1,\n",
    "'subsample':0.7,\n",
    "'max_bin':255,\n",
    "'verbose':-1,\n",
    "'seed': 51\n",
    "} "
   ]
  },
  {
   "cell_type": "code",
   "execution_count": 22,
   "metadata": {},
   "outputs": [
    {
     "name": "stdout",
     "output_type": "stream",
     "text": [
      "Fold 1\n"
     ]
    },
    {
     "name": "stderr",
     "output_type": "stream",
     "text": [
      "/usr/local/lib/python3.6/dist-packages/lightgbm/engine.py:116: UserWarning: Found `n_estimators` in params. Will use it instead of argument\n",
      "  warnings.warn(\"Found `{}` in params. Will use it instead of argument\".format(alias))\n"
     ]
    },
    {
     "name": "stdout",
     "output_type": "stream",
     "text": [
      "Training until validation scores don't improve for 100 rounds.\n",
      "[100]\ttraining's auc: 0.955145\tvalid_1's auc: 0.885654\n",
      "[200]\ttraining's auc: 0.977057\tvalid_1's auc: 0.893244\n",
      "[300]\ttraining's auc: 0.986092\tvalid_1's auc: 0.888981\n",
      "Early stopping, best iteration is:\n",
      "[212]\ttraining's auc: 0.978671\tvalid_1's auc: 0.893486\n",
      "Fold 1 ROC AUC Score 0.8934857451110849\n",
      "\n",
      "Fold 2\n"
     ]
    },
    {
     "name": "stderr",
     "output_type": "stream",
     "text": [
      "/usr/local/lib/python3.6/dist-packages/lightgbm/engine.py:116: UserWarning: Found `n_estimators` in params. Will use it instead of argument\n",
      "  warnings.warn(\"Found `{}` in params. Will use it instead of argument\".format(alias))\n"
     ]
    },
    {
     "name": "stdout",
     "output_type": "stream",
     "text": [
      "Training until validation scores don't improve for 100 rounds.\n",
      "[100]\ttraining's auc: 0.953068\tvalid_1's auc: 0.845592\n",
      "Early stopping, best iteration is:\n",
      "[28]\ttraining's auc: 0.914302\tvalid_1's auc: 0.88252\n",
      "Fold 2 ROC AUC Score 0.8825199600559421\n",
      "\n",
      "Fold 3\n"
     ]
    },
    {
     "name": "stderr",
     "output_type": "stream",
     "text": [
      "/usr/local/lib/python3.6/dist-packages/lightgbm/engine.py:116: UserWarning: Found `n_estimators` in params. Will use it instead of argument\n",
      "  warnings.warn(\"Found `{}` in params. Will use it instead of argument\".format(alias))\n"
     ]
    },
    {
     "name": "stdout",
     "output_type": "stream",
     "text": [
      "Training until validation scores don't improve for 100 rounds.\n",
      "[100]\ttraining's auc: 0.952636\tvalid_1's auc: 0.89035\n",
      "Early stopping, best iteration is:\n",
      "[99]\ttraining's auc: 0.952135\tvalid_1's auc: 0.896533\n",
      "Fold 3 ROC AUC Score 0.8965327949856777\n",
      "\n",
      "Fold 4\n"
     ]
    },
    {
     "name": "stderr",
     "output_type": "stream",
     "text": [
      "/usr/local/lib/python3.6/dist-packages/lightgbm/engine.py:116: UserWarning: Found `n_estimators` in params. Will use it instead of argument\n",
      "  warnings.warn(\"Found `{}` in params. Will use it instead of argument\".format(alias))\n"
     ]
    },
    {
     "name": "stdout",
     "output_type": "stream",
     "text": [
      "Training until validation scores don't improve for 100 rounds.\n",
      "[100]\ttraining's auc: 0.949034\tvalid_1's auc: 0.92221\n",
      "[200]\ttraining's auc: 0.975452\tvalid_1's auc: 0.934106\n",
      "[300]\ttraining's auc: 0.985673\tvalid_1's auc: 0.934421\n",
      "Early stopping, best iteration is:\n",
      "[288]\ttraining's auc: 0.984889\tvalid_1's auc: 0.934811\n",
      "Fold 4 ROC AUC Score 0.9348112697732877\n",
      "\n",
      "Fold 5\n"
     ]
    },
    {
     "name": "stderr",
     "output_type": "stream",
     "text": [
      "/usr/local/lib/python3.6/dist-packages/lightgbm/engine.py:116: UserWarning: Found `n_estimators` in params. Will use it instead of argument\n",
      "  warnings.warn(\"Found `{}` in params. Will use it instead of argument\".format(alias))\n"
     ]
    },
    {
     "name": "stdout",
     "output_type": "stream",
     "text": [
      "Training until validation scores don't improve for 100 rounds.\n",
      "[100]\ttraining's auc: 0.951095\tvalid_1's auc: 0.899685\n",
      "[200]\ttraining's auc: 0.976033\tvalid_1's auc: 0.914248\n",
      "[300]\ttraining's auc: 0.985651\tvalid_1's auc: 0.919492\n",
      "[400]\ttraining's auc: 0.990648\tvalid_1's auc: 0.922088\n",
      "[500]\ttraining's auc: 0.993747\tvalid_1's auc: 0.923321\n",
      "[600]\ttraining's auc: 0.995545\tvalid_1's auc: 0.923962\n",
      "[700]\ttraining's auc: 0.996967\tvalid_1's auc: 0.924364\n",
      "[800]\ttraining's auc: 0.997894\tvalid_1's auc: 0.925006\n",
      "[900]\ttraining's auc: 0.998622\tvalid_1's auc: 0.925082\n",
      "Early stopping, best iteration is:\n",
      "[894]\ttraining's auc: 0.998582\tvalid_1's auc: 0.925196\n",
      "Fold 5 ROC AUC Score 0.9251960622977602\n",
      "\n",
      "Average ROC AUC Score 0.9065091664447505 [STD:0.01997412648066917]\n",
      "CPU times: user 1h 39min 30s, sys: 41.3 s, total: 1h 40min 11s\n",
      "Wall time: 14min 12s\n"
     ]
    }
   ],
   "source": [
    "%%time\n",
    "N = 5\n",
    "kf = StratifiedKFold(n_splits=N)\n",
    "\n",
    "importance = pd.DataFrame(np.zeros((train.shape[1], N)), columns=['Fold_{}'.format(i) for i in range(1, N + 1)], index=train.columns)\n",
    "scores = []\n",
    "y_pred = np.zeros(test.shape[0])\n",
    "oof = np.zeros(train.shape[0])\n",
    "\n",
    "for fold, (trn_idx, val_idx) in enumerate(kf.split(train, y), 1):\n",
    "    print('Fold {}'.format(fold))\n",
    "          \n",
    "    trn_data = lgb.Dataset(train.iloc[trn_idx, :].values, label=y.iloc[trn_idx].values)\n",
    "    val_data = lgb.Dataset(train.iloc[val_idx, :].values, label=y.iloc[val_idx].values)   \n",
    "    \n",
    "    clf = lgb.train(lgb_params,n_estimators = 2000, trn_data ,valid_sets=[trn_data, val_data], verbose_eval=100,early_stopping_rounds=100)\n",
    "\n",
    "    predictions = clf.predict(train.iloc[val_idx, :].values) \n",
    "    importance.iloc[:, fold - 1] = clf.feature_importance()\n",
    "    oof[val_idx] = predictions\n",
    "\n",
    "    score = roc_auc_score(y.iloc[val_idx].values, predictions)\n",
    "    scores.append(score)\n",
    "    print('Fold {} ROC AUC Score {}\\n'.format(fold, score))\n",
    "\n",
    "    y_pred += clf.predict(test) / N\n",
    "    \n",
    "    del trn_data, val_data, predictions\n",
    "    gc.collect()\n",
    "    \n",
    "print('Average ROC AUC Score {} [STD:{}]'.format(np.mean(scores), np.std(scores)))"
   ]
  },
  {
   "cell_type": "code",
   "execution_count": 23,
   "metadata": {},
   "outputs": [
    {
     "name": "stdout",
     "output_type": "stream",
     "text": [
      "0.8283765519177129\n"
     ]
    }
   ],
   "source": [
    "print(roc_auc_score(y,oof))"
   ]
  },
  {
   "cell_type": "code",
   "execution_count": 24,
   "metadata": {},
   "outputs": [],
   "source": [
    "importance['avg'] = importance.mean(axis=1)"
   ]
  },
  {
   "cell_type": "code",
   "execution_count": 25,
   "metadata": {},
   "outputs": [],
   "source": [
    "importance = importance.sort_values(by='avg',ascending=False)"
   ]
  },
  {
   "cell_type": "code",
   "execution_count": 26,
   "metadata": {},
   "outputs": [],
   "source": [
    "importance = importance.reset_index(drop=False)"
   ]
  },
  {
   "cell_type": "code",
   "execution_count": 27,
   "metadata": {},
   "outputs": [
    {
     "data": {
      "text/html": [
       "<div>\n",
       "<style scoped>\n",
       "    .dataframe tbody tr th:only-of-type {\n",
       "        vertical-align: middle;\n",
       "    }\n",
       "\n",
       "    .dataframe tbody tr th {\n",
       "        vertical-align: top;\n",
       "    }\n",
       "\n",
       "    .dataframe thead th {\n",
       "        text-align: right;\n",
       "    }\n",
       "</style>\n",
       "<table border=\"1\" class=\"dataframe\">\n",
       "  <thead>\n",
       "    <tr style=\"text-align: right;\">\n",
       "      <th></th>\n",
       "      <th>index</th>\n",
       "      <th>Fold_1</th>\n",
       "      <th>Fold_2</th>\n",
       "      <th>Fold_3</th>\n",
       "      <th>Fold_4</th>\n",
       "      <th>Fold_5</th>\n",
       "      <th>avg</th>\n",
       "    </tr>\n",
       "  </thead>\n",
       "  <tbody>\n",
       "    <tr>\n",
       "      <th>0</th>\n",
       "      <td>card1</td>\n",
       "      <td>1836</td>\n",
       "      <td>106</td>\n",
       "      <td>709</td>\n",
       "      <td>2474</td>\n",
       "      <td>8736</td>\n",
       "      <td>2772.2</td>\n",
       "    </tr>\n",
       "    <tr>\n",
       "      <th>1</th>\n",
       "      <td>dayofyear</td>\n",
       "      <td>2195</td>\n",
       "      <td>297</td>\n",
       "      <td>1072</td>\n",
       "      <td>2770</td>\n",
       "      <td>7415</td>\n",
       "      <td>2749.8</td>\n",
       "    </tr>\n",
       "    <tr>\n",
       "      <th>2</th>\n",
       "      <td>TransactionAmt</td>\n",
       "      <td>1490</td>\n",
       "      <td>204</td>\n",
       "      <td>747</td>\n",
       "      <td>1982</td>\n",
       "      <td>7034</td>\n",
       "      <td>2291.4</td>\n",
       "    </tr>\n",
       "    <tr>\n",
       "      <th>3</th>\n",
       "      <td>card2</td>\n",
       "      <td>1341</td>\n",
       "      <td>63</td>\n",
       "      <td>470</td>\n",
       "      <td>1844</td>\n",
       "      <td>6168</td>\n",
       "      <td>1977.2</td>\n",
       "    </tr>\n",
       "    <tr>\n",
       "      <th>4</th>\n",
       "      <td>addr1</td>\n",
       "      <td>1043</td>\n",
       "      <td>47</td>\n",
       "      <td>313</td>\n",
       "      <td>1581</td>\n",
       "      <td>5967</td>\n",
       "      <td>1790.2</td>\n",
       "    </tr>\n",
       "  </tbody>\n",
       "</table>\n",
       "</div>"
      ],
      "text/plain": [
       "            index  Fold_1  Fold_2  Fold_3  Fold_4  Fold_5     avg\n",
       "0           card1    1836     106     709    2474    8736  2772.2\n",
       "1       dayofyear    2195     297    1072    2770    7415  2749.8\n",
       "2  TransactionAmt    1490     204     747    1982    7034  2291.4\n",
       "3           card2    1341      63     470    1844    6168  1977.2\n",
       "4           addr1    1043      47     313    1581    5967  1790.2"
      ]
     },
     "execution_count": 27,
     "metadata": {},
     "output_type": "execute_result"
    }
   ],
   "source": [
    "importance.head()"
   ]
  },
  {
   "cell_type": "code",
   "execution_count": 28,
   "metadata": {},
   "outputs": [],
   "source": [
    "importance.to_csv('../importances/importances4.csv',index=False)"
   ]
  },
  {
   "cell_type": "code",
   "execution_count": 29,
   "metadata": {},
   "outputs": [
    {
     "data": {
      "text/html": [
       "<div>\n",
       "<style scoped>\n",
       "    .dataframe tbody tr th:only-of-type {\n",
       "        vertical-align: middle;\n",
       "    }\n",
       "\n",
       "    .dataframe tbody tr th {\n",
       "        vertical-align: top;\n",
       "    }\n",
       "\n",
       "    .dataframe thead th {\n",
       "        text-align: right;\n",
       "    }\n",
       "</style>\n",
       "<table border=\"1\" class=\"dataframe\">\n",
       "  <thead>\n",
       "    <tr style=\"text-align: right;\">\n",
       "      <th></th>\n",
       "      <th>TransactionID</th>\n",
       "      <th>isFraud</th>\n",
       "    </tr>\n",
       "  </thead>\n",
       "  <tbody>\n",
       "    <tr>\n",
       "      <th>0</th>\n",
       "      <td>3663549</td>\n",
       "      <td>0.5</td>\n",
       "    </tr>\n",
       "    <tr>\n",
       "      <th>1</th>\n",
       "      <td>3663550</td>\n",
       "      <td>0.5</td>\n",
       "    </tr>\n",
       "    <tr>\n",
       "      <th>2</th>\n",
       "      <td>3663551</td>\n",
       "      <td>0.5</td>\n",
       "    </tr>\n",
       "    <tr>\n",
       "      <th>3</th>\n",
       "      <td>3663552</td>\n",
       "      <td>0.5</td>\n",
       "    </tr>\n",
       "    <tr>\n",
       "      <th>4</th>\n",
       "      <td>3663553</td>\n",
       "      <td>0.5</td>\n",
       "    </tr>\n",
       "  </tbody>\n",
       "</table>\n",
       "</div>"
      ],
      "text/plain": [
       "   TransactionID  isFraud\n",
       "0        3663549      0.5\n",
       "1        3663550      0.5\n",
       "2        3663551      0.5\n",
       "3        3663552      0.5\n",
       "4        3663553      0.5"
      ]
     },
     "execution_count": 29,
     "metadata": {},
     "output_type": "execute_result"
    }
   ],
   "source": [
    "sample_submission.head()"
   ]
  },
  {
   "cell_type": "code",
   "execution_count": 30,
   "metadata": {},
   "outputs": [],
   "source": [
    "sample_submission['isFraud'] = y_pred"
   ]
  },
  {
   "cell_type": "code",
   "execution_count": 31,
   "metadata": {},
   "outputs": [
    {
     "data": {
      "text/html": [
       "<div>\n",
       "<style scoped>\n",
       "    .dataframe tbody tr th:only-of-type {\n",
       "        vertical-align: middle;\n",
       "    }\n",
       "\n",
       "    .dataframe tbody tr th {\n",
       "        vertical-align: top;\n",
       "    }\n",
       "\n",
       "    .dataframe thead th {\n",
       "        text-align: right;\n",
       "    }\n",
       "</style>\n",
       "<table border=\"1\" class=\"dataframe\">\n",
       "  <thead>\n",
       "    <tr style=\"text-align: right;\">\n",
       "      <th></th>\n",
       "      <th>TransactionID</th>\n",
       "      <th>isFraud</th>\n",
       "    </tr>\n",
       "  </thead>\n",
       "  <tbody>\n",
       "    <tr>\n",
       "      <th>0</th>\n",
       "      <td>3663549</td>\n",
       "      <td>0.008508</td>\n",
       "    </tr>\n",
       "    <tr>\n",
       "      <th>1</th>\n",
       "      <td>3663550</td>\n",
       "      <td>0.009097</td>\n",
       "    </tr>\n",
       "    <tr>\n",
       "      <th>2</th>\n",
       "      <td>3663551</td>\n",
       "      <td>0.012775</td>\n",
       "    </tr>\n",
       "    <tr>\n",
       "      <th>3</th>\n",
       "      <td>3663552</td>\n",
       "      <td>0.007722</td>\n",
       "    </tr>\n",
       "    <tr>\n",
       "      <th>4</th>\n",
       "      <td>3663553</td>\n",
       "      <td>0.008183</td>\n",
       "    </tr>\n",
       "  </tbody>\n",
       "</table>\n",
       "</div>"
      ],
      "text/plain": [
       "   TransactionID   isFraud\n",
       "0        3663549  0.008508\n",
       "1        3663550  0.009097\n",
       "2        3663551  0.012775\n",
       "3        3663552  0.007722\n",
       "4        3663553  0.008183"
      ]
     },
     "execution_count": 31,
     "metadata": {},
     "output_type": "execute_result"
    }
   ],
   "source": [
    "sample_submission.head()"
   ]
  },
  {
   "cell_type": "code",
   "execution_count": 32,
   "metadata": {},
   "outputs": [],
   "source": [
    "sample_submission.to_csv('../predictions/pred4.csv',index=False)"
   ]
  },
  {
   "cell_type": "code",
   "execution_count": 33,
   "metadata": {},
   "outputs": [
    {
     "name": "stdout",
     "output_type": "stream",
     "text": [
      "Warning: Looks like you're using an outdated API Version, please consider updating (server 1.5.6 / client 1.5.1.1)\n",
      "100%|███████████████████████████████████████| 13.9M/13.9M [00:33<00:00, 435kB/s]\n",
      "Successfully submitted to IEEE-CIS Fraud Detection"
     ]
    }
   ],
   "source": [
    "!kaggle competitions submit -c ieee-fraud-detection -f ./predictions/pred4.csv -m \"pred4\""
   ]
  },
  {
   "cell_type": "code",
   "execution_count": null,
   "metadata": {},
   "outputs": [],
   "source": []
  }
 ],
 "metadata": {
  "kernelspec": {
   "display_name": "Python 3",
   "language": "python",
   "name": "python3"
  },
  "language_info": {
   "codemirror_mode": {
    "name": "ipython",
    "version": 3
   },
   "file_extension": ".py",
   "mimetype": "text/x-python",
   "name": "python",
   "nbconvert_exporter": "python",
   "pygments_lexer": "ipython3",
   "version": "3.6.8"
  }
 },
 "nbformat": 4,
 "nbformat_minor": 2
}
