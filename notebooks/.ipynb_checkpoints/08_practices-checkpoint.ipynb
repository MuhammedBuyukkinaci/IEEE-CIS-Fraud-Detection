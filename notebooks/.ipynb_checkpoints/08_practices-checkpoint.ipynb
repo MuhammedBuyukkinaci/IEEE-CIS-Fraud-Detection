{
 "cells": [
  {
   "cell_type": "code",
   "execution_count": 1,
   "metadata": {},
   "outputs": [],
   "source": [
    "import pandas as pd\n",
    "import numpy as np\n",
    "import dask.dataframe as dd\n",
    "import missingno as msno\n",
    "import seaborn as sns\n",
    "import matplotlib.pyplot as plt\n",
    "from scipy import stats\n",
    "from tqdm import tqdm_notebook\n",
    "np.set_printoptions(suppress=True)\n",
    "from sklearn import preprocessing\n",
    "from tqdm import tqdm\n",
    "import decimal\n",
    "from random import shuffle\n",
    "from time import sleep\n",
    "tqdm.pandas()\n",
    "from sklearn.preprocessing import LabelEncoder\n",
    "import gc\n",
    "import datetime\n",
    "from sklearn.model_selection import train_test_split, KFold, GroupKFold\n",
    "import os\n",
    "from sklearn.metrics import roc_auc_score\n",
    "plt.style.use('ggplot')\n",
    "np.set_printoptions(suppress=True)\n",
    "import random\n",
    "import lightgbm as lgb"
   ]
  },
  {
   "cell_type": "code",
   "execution_count": 2,
   "metadata": {},
   "outputs": [],
   "source": [
    "#Always seed the randomness of this universe\n",
    "def seed_everything(seed=51):\n",
    "    random.seed(seed)\n",
    "    os.environ['PYTHONHASHSEED'] = str(seed)\n",
    "    np.random.seed(seed)"
   ]
  },
  {
   "cell_type": "code",
   "execution_count": 3,
   "metadata": {},
   "outputs": [],
   "source": [
    "seed_everything(seed=51)"
   ]
  },
  {
   "cell_type": "code",
   "execution_count": 4,
   "metadata": {},
   "outputs": [],
   "source": [
    "pd.set_option('display.max_rows', 1000)\n",
    "pd.set_option('display.max_columns', 1000)"
   ]
  },
  {
   "cell_type": "code",
   "execution_count": 5,
   "metadata": {},
   "outputs": [
    {
     "name": "stdout",
     "output_type": "stream",
     "text": [
      "train_identity finished\n",
      "test_identity finished\n",
      "train_transaction finished\n",
      "test_transaction finished\n"
     ]
    }
   ],
   "source": [
    "#train_identity\n",
    "train_identity = dd.read_csv('../input/train_identity.csv')\n",
    "train_identity = train_identity.compute()\n",
    "train_identity = train_identity.reset_index(drop=True)\n",
    "print(\"train_identity finished\")\n",
    "#test_identity\n",
    "test_identity = dd.read_csv('../input/test_identity.csv')\n",
    "test_identity = test_identity.compute()\n",
    "test_identity = test_identity.reset_index(drop=True)\n",
    "print(\"test_identity finished\")\n",
    "#train_transaction\n",
    "train_transaction = dd.read_csv('../input/train_transaction.csv')\n",
    "train_transaction = train_transaction.compute()\n",
    "train_transaction = train_transaction.reset_index(drop=True)\n",
    "print(\"train_transaction finished\")\n",
    "#test_transaction\n",
    "test_transaction = dd.read_csv('../input/test_transaction.csv')\n",
    "test_transaction = test_transaction.compute()\n",
    "test_transaction = test_transaction.reset_index(drop=True)\n",
    "print(\"test_transaction finished\")"
   ]
  },
  {
   "cell_type": "code",
   "execution_count": 6,
   "metadata": {},
   "outputs": [
    {
     "name": "stdout",
     "output_type": "stream",
     "text": [
      "(506691, 2)\n"
     ]
    }
   ],
   "source": [
    "sample_submission = pd.read_csv('../input/sample_submission.csv')\n",
    "print(sample_submission.shape)"
   ]
  },
  {
   "cell_type": "code",
   "execution_count": 7,
   "metadata": {},
   "outputs": [
    {
     "name": "stdout",
     "output_type": "stream",
     "text": [
      "(144233, 41) (141907, 41) (590540, 394) (506691, 393)\n"
     ]
    }
   ],
   "source": [
    "print(train_identity.shape,test_identity.shape,train_transaction.shape,test_transaction.shape)"
   ]
  },
  {
   "cell_type": "code",
   "execution_count": 8,
   "metadata": {},
   "outputs": [
    {
     "name": "stdout",
     "output_type": "stream",
     "text": [
      "CPU times: user 7.51 s, sys: 7.18 s, total: 14.7 s\n",
      "Wall time: 14.7 s\n"
     ]
    }
   ],
   "source": [
    "%%time\n",
    "train = pd.merge(train_transaction, train_identity, on='TransactionID', how='left')\n",
    "test = pd.merge(test_transaction, test_identity, on='TransactionID', how='left')"
   ]
  },
  {
   "cell_type": "code",
   "execution_count": 9,
   "metadata": {},
   "outputs": [],
   "source": [
    "train_null = train.isnull().sum()\n",
    "test_null = test.isnull().sum()"
   ]
  },
  {
   "cell_type": "code",
   "execution_count": 10,
   "metadata": {},
   "outputs": [],
   "source": [
    "train_null = train_null.reset_index(drop=False)\n",
    "train_null.columns = ['column_name','counts']"
   ]
  },
  {
   "cell_type": "code",
   "execution_count": 11,
   "metadata": {},
   "outputs": [],
   "source": [
    "test_null = test_null.reset_index(drop=False)\n",
    "test_null.columns = ['column_name','counts']"
   ]
  },
  {
   "cell_type": "code",
   "execution_count": 12,
   "metadata": {},
   "outputs": [],
   "source": [
    "temp_train = train_null.groupby('counts')['column_name'].apply(list)\n",
    "temp_test = test_null.groupby('counts')['column_name'].apply(list)"
   ]
  },
  {
   "cell_type": "code",
   "execution_count": 13,
   "metadata": {},
   "outputs": [
    {
     "name": "stdout",
     "output_type": "stream",
     "text": [
      "0\n",
      "['TransactionID', 'isFraud', 'TransactionDT', 'TransactionAmt', 'ProductCD', 'card1', 'C1', 'C2', 'C3', 'C4', 'C5', 'C6', 'C7', 'C8', 'C9', 'C10', 'C11', 'C12', 'C13', 'C14']\n",
      "==============================\n",
      "12\n",
      "['V279', 'V280', 'V284', 'V285', 'V286', 'V287', 'V290', 'V291', 'V292', 'V293', 'V294', 'V295', 'V297', 'V298', 'V299', 'V302', 'V303', 'V304', 'V305', 'V306', 'V307', 'V308', 'V309', 'V310', 'V311', 'V312', 'V316', 'V317', 'V318', 'V319', 'V320', 'V321']\n",
      "==============================\n",
      "314\n",
      "['V95', 'V96', 'V97', 'V98', 'V99', 'V100', 'V101', 'V102', 'V103', 'V104', 'V105', 'V106', 'V107', 'V108', 'V109', 'V110', 'V111', 'V112', 'V113', 'V114', 'V115', 'V116', 'V117', 'V118', 'V119', 'V120', 'V121', 'V122', 'V123', 'V124', 'V125', 'V126', 'V127', 'V128', 'V129', 'V130', 'V131', 'V132', 'V133', 'V134', 'V135', 'V136', 'V137']\n",
      "==============================\n",
      "1269\n",
      "['D1', 'V281', 'V282', 'V283', 'V288', 'V289', 'V296', 'V300', 'V301', 'V313', 'V314', 'V315']\n",
      "==============================\n"
     ]
    }
   ],
   "source": [
    "for i in temp_train.index[:4]:\n",
    "    print(i)\n",
    "    print(temp_train.loc[i])\n",
    "    print(\"=\"*30)"
   ]
  },
  {
   "cell_type": "code",
   "execution_count": 14,
   "metadata": {},
   "outputs": [
    {
     "data": {
      "text/plain": [
       "<matplotlib.axes._subplots.AxesSubplot at 0x7f17ec087860>"
      ]
     },
     "execution_count": 14,
     "metadata": {},
     "output_type": "execute_result"
    },
    {
     "data": {
      "image/png": "[encoded data removed]",
      "text/plain": [
       "<Figure size 1800x720 with 2 Axes>"
      ]
     },
     "metadata": {
      "needs_background": "light"
     },
     "output_type": "display_data"
    }
   ],
   "source": [
    "msno.matrix(train[['id_15', 'id_35', 'id_36', 'id_37', 'id_38','id_11', 'id_28', 'id_29']])"
   ]
  },
  {
   "cell_type": "markdown",
   "metadata": {},
   "source": [
    "# id_06"
   ]
  },
  {
   "cell_type": "code",
   "execution_count": 15,
   "metadata": {},
   "outputs": [],
   "source": [
    "column_name = 'id_06'"
   ]
  },
  {
   "cell_type": "code",
   "execution_count": 16,
   "metadata": {},
   "outputs": [
    {
     "data": {
      "text/plain": [
       "101"
      ]
     },
     "execution_count": 16,
     "metadata": {},
     "output_type": "execute_result"
    }
   ],
   "source": [
    "train[column_name].nunique()"
   ]
  },
  {
   "cell_type": "code",
   "execution_count": 17,
   "metadata": {},
   "outputs": [
    {
     "data": {
      "text/plain": [
       "453675"
      ]
     },
     "execution_count": 17,
     "metadata": {},
     "output_type": "execute_result"
    }
   ],
   "source": [
    "train[column_name].isnull().sum()"
   ]
  },
  {
   "cell_type": "code",
   "execution_count": 18,
   "metadata": {},
   "outputs": [
    {
     "data": {
      "text/plain": [
       "array([-100.,  -99.,  -98.,  -97.,  -96.,  -95.,  -94.,  -93.,  -92.,\n",
       "        -91.,  -90.,  -89.,  -88.,  -87.,  -86.,  -85.,  -84.,  -83.,\n",
       "        -82.,  -81.,  -80.,  -79.,  -78.,  -77.,  -76.,  -75.,  -74.,\n",
       "        -73.,  -72.,  -71.,  -70.,  -69.,  -68.,  -67.,  -66.,  -65.,\n",
       "        -64.,  -63.,  -62.,  -61.,  -60.,  -59.,  -58.,  -57.,  -56.,\n",
       "        -55.,  -54.,  -53.,  -52.,  -51.,  -50.,  -49.,  -48.,  -47.,\n",
       "        -46.,  -45.,  -44.,  -43.,  -42.,  -41.,  -40.,  -39.,  -38.,\n",
       "        -37.,  -36.,  -35.,  -34.,  -33.,  -32.,  -31.,  -30.,  -29.,\n",
       "        -28.,  -27.,  -26.,  -25.,  -24.,  -23.,  -22.,  -21.,  -20.,\n",
       "        -19.,  -18.,  -17.,  -16.,  -15.,  -14.,  -13.,  -12.,  -11.,\n",
       "        -10.,   -9.,   -8.,   -7.,   -6.,   -5.,   -4.,   -3.,   -2.,\n",
       "         -1.,    0.,   nan])"
      ]
     },
     "execution_count": 18,
     "metadata": {},
     "output_type": "execute_result"
    }
   ],
   "source": [
    "np.sort(train[column_name].unique())"
   ]
  },
  {
   "cell_type": "code",
   "execution_count": 19,
   "metadata": {},
   "outputs": [
    {
     "name": "stderr",
     "output_type": "stream",
     "text": [
      "/home/muhammed/.local/lib/python3.6/site-packages/numpy/lib/histograms.py:824: RuntimeWarning: invalid value encountered in greater_equal\n",
      "  keep = (tmp_a >= first_edge)\n",
      "/home/muhammed/.local/lib/python3.6/site-packages/numpy/lib/histograms.py:825: RuntimeWarning: invalid value encountered in less_equal\n",
      "  keep &= (tmp_a <= last_edge)\n"
     ]
    },
    {
     "data": {
      "image/png": "[encoded data removed]",
      "text/plain": [
       "<Figure size 432x288 with 1 Axes>"
      ]
     },
     "metadata": {
      "needs_background": "light"
     },
     "output_type": "display_data"
    }
   ],
   "source": [
    "plt.hist(train[column_name],bins=30)\n",
    "plt.show()"
   ]
  },
  {
   "cell_type": "markdown",
   "metadata": {},
   "source": [
    "# id_08"
   ]
  },
  {
   "cell_type": "code",
   "execution_count": 20,
   "metadata": {},
   "outputs": [],
   "source": [
    "column_name = 'id_08'"
   ]
  },
  {
   "cell_type": "code",
   "execution_count": 21,
   "metadata": {},
   "outputs": [
    {
     "data": {
      "text/plain": [
       "94"
      ]
     },
     "execution_count": 21,
     "metadata": {},
     "output_type": "execute_result"
    }
   ],
   "source": [
    "train[column_name].nunique()"
   ]
  },
  {
   "cell_type": "code",
   "execution_count": 22,
   "metadata": {},
   "outputs": [
    {
     "data": {
      "text/plain": [
       "585385"
      ]
     },
     "execution_count": 22,
     "metadata": {},
     "output_type": "execute_result"
    }
   ],
   "source": [
    "train[column_name].isnull().sum()"
   ]
  },
  {
   "cell_type": "code",
   "execution_count": 23,
   "metadata": {},
   "outputs": [
    {
     "data": {
      "text/plain": [
       "array([-100.,  -99.,  -98.,  -97.,  -95.,  -93.,  -92.,  -90.,  -88.,\n",
       "        -85.,  -84.,  -82.,  -81.,  -80.,  -79.,  -78.,  -77.,  -76.,\n",
       "        -75.,  -74.,  -73.,  -72.,  -71.,  -70.,  -69.,  -68.,  -67.,\n",
       "        -66.,  -65.,  -64.,  -63.,  -62.,  -61.,  -60.,  -59.,  -58.,\n",
       "        -57.,  -56.,  -55.,  -54.,  -53.,  -52.,  -51.,  -50.,  -49.,\n",
       "        -48.,  -47.,  -46.,  -45.,  -44.,  -43.,  -42.,  -41.,  -40.,\n",
       "        -39.,  -38.,  -37.,  -36.,  -35.,  -34.,  -33.,  -32.,  -31.,\n",
       "        -30.,  -29.,  -28.,  -27.,  -26.,  -25.,  -24.,  -23.,  -22.,\n",
       "        -21.,  -20.,  -19.,  -18.,  -17.,  -16.,  -15.,  -14.,  -13.,\n",
       "        -12.,  -11.,  -10.,   -9.,   -8.,   -7.,   -6.,   -5.,   -4.,\n",
       "         -3.,   -2.,   -1.,    0.,   nan])"
      ]
     },
     "execution_count": 23,
     "metadata": {},
     "output_type": "execute_result"
    }
   ],
   "source": [
    "np.sort(train[column_name].unique())"
   ]
  },
  {
   "cell_type": "code",
   "execution_count": 24,
   "metadata": {},
   "outputs": [
    {
     "data": {
      "image/png": "[encoded data removed]",
      "text/plain": [
       "<Figure size 432x288 with 1 Axes>"
      ]
     },
     "metadata": {
      "needs_background": "light"
     },
     "output_type": "display_data"
    }
   ],
   "source": [
    "plt.hist(train[column_name],bins=30)\n",
    "plt.show()"
   ]
  },
  {
   "cell_type": "markdown",
   "metadata": {},
   "source": [
    "# id_14"
   ]
  },
  {
   "cell_type": "code",
   "execution_count": 25,
   "metadata": {},
   "outputs": [],
   "source": [
    "column_name = 'id_14'"
   ]
  },
  {
   "cell_type": "code",
   "execution_count": 26,
   "metadata": {},
   "outputs": [
    {
     "data": {
      "text/plain": [
       "25"
      ]
     },
     "execution_count": 26,
     "metadata": {},
     "output_type": "execute_result"
    }
   ],
   "source": [
    "train[column_name].nunique()"
   ]
  },
  {
   "cell_type": "code",
   "execution_count": 27,
   "metadata": {},
   "outputs": [
    {
     "data": {
      "text/plain": [
       "510496"
      ]
     },
     "execution_count": 27,
     "metadata": {},
     "output_type": "execute_result"
    }
   ],
   "source": [
    "train[column_name].isnull().sum()"
   ]
  },
  {
   "cell_type": "code",
   "execution_count": 28,
   "metadata": {},
   "outputs": [
    {
     "data": {
      "text/plain": [
       "array([-660., -600., -540., -480., -420., -360., -300., -240., -210.,\n",
       "       -180., -120.,    0.,   60.,  120.,  180.,  240.,  270.,  300.,\n",
       "        330.,  360.,  420.,  480.,  540.,  600.,  720.,   nan])"
      ]
     },
     "execution_count": 28,
     "metadata": {},
     "output_type": "execute_result"
    }
   ],
   "source": [
    "np.sort(train[column_name].unique())"
   ]
  },
  {
   "cell_type": "code",
   "execution_count": 29,
   "metadata": {},
   "outputs": [
    {
     "data": {
      "text/plain": [
       "array([-24., -20., -18., -16., -14., -12., -10.,  -8.,  -7.,  -6.,  -4.,\n",
       "         0.,   2.,   4.,   6.,   8.,   9.,  10.,  11.,  12.,  14.,  16.,\n",
       "        18.,  19.,  20.,  22.,  24.,  nan])"
      ]
     },
     "execution_count": 29,
     "metadata": {},
     "output_type": "execute_result"
    }
   ],
   "source": [
    "np.sort(test[column_name].unique()) / 30"
   ]
  },
  {
   "cell_type": "code",
   "execution_count": 30,
   "metadata": {},
   "outputs": [
    {
     "data": {
      "image/png": "[encoded data removed]",
      "text/plain": [
       "<Figure size 432x288 with 1 Axes>"
      ]
     },
     "metadata": {
      "needs_background": "light"
     },
     "output_type": "display_data"
    }
   ],
   "source": [
    "plt.hist(train[column_name],bins=30)\n",
    "plt.show()"
   ]
  },
  {
   "cell_type": "code",
   "execution_count": 74,
   "metadata": {},
   "outputs": [],
   "source": [
    "by = ['card1', 'card2', 'card3', 'card4', 'card5', 'card6']"
   ]
  },
  {
   "cell_type": "code",
   "execution_count": 75,
   "metadata": {},
   "outputs": [
    {
     "data": {
      "text/plain": [
       "<matplotlib.axes._subplots.AxesSubplot at 0x7f17c5c7bf60>"
      ]
     },
     "execution_count": 75,
     "metadata": {},
     "output_type": "execute_result"
    },
    {
     "data": {
      "image/png": "[encoded data removed]",
      "text/plain": [
       "<Figure size 1800x720 with 2 Axes>"
      ]
     },
     "metadata": {
      "needs_background": "light"
     },
     "output_type": "display_data"
    }
   ],
   "source": [
    "msno.matrix(train[by])"
   ]
  },
  {
   "cell_type": "code",
   "execution_count": 33,
   "metadata": {},
   "outputs": [],
   "source": [
    "train['card1'].fillna(999999,inplace=True)\n",
    "train['card2'].fillna(999999,inplace=True)\n",
    "train['card3'].fillna(999999,inplace=True)\n",
    "train['card4'].fillna(999999,inplace=True)\n",
    "train['card5'].fillna(999999,inplace=True)\n",
    "train['card6'].fillna(999999,inplace=True)\n",
    "\n",
    "train['P_emaildomain'].fillna('999999',inplace=True)\n",
    "train['R_emaildomain'].fillna('999999',inplace=True)"
   ]
  },
  {
   "cell_type": "code",
   "execution_count": 76,
   "metadata": {},
   "outputs": [],
   "source": [
    "grouped = train[by + ['TransactionID']].groupby(by, as_index=False)['TransactionID'].count()"
   ]
  },
  {
   "cell_type": "code",
   "execution_count": 77,
   "metadata": {},
   "outputs": [],
   "source": [
    "grouped.rename(columns={'TransactionID':'counts'},inplace=True)"
   ]
  },
  {
   "cell_type": "code",
   "execution_count": 78,
   "metadata": {},
   "outputs": [
    {
     "data": {
      "text/plain": [
       "4.0"
      ]
     },
     "execution_count": 78,
     "metadata": {},
     "output_type": "execute_result"
    }
   ],
   "source": [
    "grouped['counts'].median()"
   ]
  },
  {
   "cell_type": "code",
   "execution_count": 79,
   "metadata": {},
   "outputs": [
    {
     "data": {
      "text/plain": [
       "count    14893.000000\n",
       "mean        39.652186\n",
       "std        297.620053\n",
       "min          1.000000\n",
       "25%          1.000000\n",
       "50%          4.000000\n",
       "75%         12.000000\n",
       "max      14112.000000\n",
       "Name: counts, dtype: float64"
      ]
     },
     "execution_count": 79,
     "metadata": {},
     "output_type": "execute_result"
    }
   ],
   "source": [
    "grouped['counts'].describe()"
   ]
  },
  {
   "cell_type": "code",
   "execution_count": 80,
   "metadata": {},
   "outputs": [
    {
     "data": {
      "text/plain": [
       "528"
      ]
     },
     "execution_count": 80,
     "metadata": {},
     "output_type": "execute_result"
    }
   ],
   "source": [
    "grouped['counts'].nunique()"
   ]
  },
  {
   "cell_type": "code",
   "execution_count": 81,
   "metadata": {},
   "outputs": [
    {
     "data": {
      "text/plain": [
       "(14893, 7)"
      ]
     },
     "execution_count": 81,
     "metadata": {},
     "output_type": "execute_result"
    }
   ],
   "source": [
    "grouped.shape"
   ]
  },
  {
   "cell_type": "code",
   "execution_count": 82,
   "metadata": {},
   "outputs": [
    {
     "data": {
      "text/plain": [
       "590540"
      ]
     },
     "execution_count": 82,
     "metadata": {},
     "output_type": "execute_result"
    }
   ],
   "source": [
    "grouped['counts'].sum()"
   ]
  },
  {
   "cell_type": "code",
   "execution_count": 83,
   "metadata": {},
   "outputs": [
    {
     "data": {
      "text/html": [
       "<div>\n",
       "<style scoped>\n",
       "    .dataframe tbody tr th:only-of-type {\n",
       "        vertical-align: middle;\n",
       "    }\n",
       "\n",
       "    .dataframe tbody tr th {\n",
       "        vertical-align: top;\n",
       "    }\n",
       "\n",
       "    .dataframe thead th {\n",
       "        text-align: right;\n",
       "    }\n",
       "</style>\n",
       "<table border=\"1\" class=\"dataframe\">\n",
       "  <thead>\n",
       "    <tr style=\"text-align: right;\">\n",
       "      <th></th>\n",
       "      <th>card1</th>\n",
       "      <th>card2</th>\n",
       "      <th>card3</th>\n",
       "      <th>card4</th>\n",
       "      <th>card5</th>\n",
       "      <th>card6</th>\n",
       "      <th>counts</th>\n",
       "    </tr>\n",
       "  </thead>\n",
       "  <tbody>\n",
       "    <tr>\n",
       "      <th>4721</th>\n",
       "      <td>6534</td>\n",
       "      <td>302.0</td>\n",
       "      <td>150.0</td>\n",
       "      <td>visa</td>\n",
       "      <td>226.0</td>\n",
       "      <td>debit</td>\n",
       "      <td>1</td>\n",
       "    </tr>\n",
       "    <tr>\n",
       "      <th>5062</th>\n",
       "      <td>6932</td>\n",
       "      <td>478.0</td>\n",
       "      <td>150.0</td>\n",
       "      <td>visa</td>\n",
       "      <td>166.0</td>\n",
       "      <td>debit</td>\n",
       "      <td>51</td>\n",
       "    </tr>\n",
       "    <tr>\n",
       "      <th>13246</th>\n",
       "      <td>16467</td>\n",
       "      <td>555.0</td>\n",
       "      <td>150.0</td>\n",
       "      <td>visa</td>\n",
       "      <td>195.0</td>\n",
       "      <td>credit</td>\n",
       "      <td>1</td>\n",
       "    </tr>\n",
       "    <tr>\n",
       "      <th>1955</th>\n",
       "      <td>3278</td>\n",
       "      <td>453.0</td>\n",
       "      <td>150.0</td>\n",
       "      <td>visa</td>\n",
       "      <td>226.0</td>\n",
       "      <td>debit</td>\n",
       "      <td>571</td>\n",
       "    </tr>\n",
       "    <tr>\n",
       "      <th>6296</th>\n",
       "      <td>8369</td>\n",
       "      <td>598.0</td>\n",
       "      <td>150.0</td>\n",
       "      <td>mastercard</td>\n",
       "      <td>195.0</td>\n",
       "      <td>debit</td>\n",
       "      <td>5</td>\n",
       "    </tr>\n",
       "  </tbody>\n",
       "</table>\n",
       "</div>"
      ],
      "text/plain": [
       "       card1  card2  card3       card4  card5   card6  counts\n",
       "4721    6534  302.0  150.0        visa  226.0   debit       1\n",
       "5062    6932  478.0  150.0        visa  166.0   debit      51\n",
       "13246  16467  555.0  150.0        visa  195.0  credit       1\n",
       "1955    3278  453.0  150.0        visa  226.0   debit     571\n",
       "6296    8369  598.0  150.0  mastercard  195.0   debit       5"
      ]
     },
     "execution_count": 83,
     "metadata": {},
     "output_type": "execute_result"
    }
   ],
   "source": [
    "grouped.sample(5)"
   ]
  },
  {
   "cell_type": "code",
   "execution_count": 84,
   "metadata": {},
   "outputs": [],
   "source": [
    "# This combination of cardx features gives 7 rows.\n",
    "card1 = 6932\n",
    "card2 = 478.0\n",
    "card3 = 150.0\n",
    "card4 = 'visa'\n",
    "card5 = 166\n",
    "card6 = 'debit'\n",
    "#P_emaildomain = 'yahoo.com'\n",
    "#R_emaildomain = '999999'\n",
    "\n",
    "\n",
    "train_slice = train[(train['card1']==card1)&\n",
    "                   (train['card2']==card2)&\n",
    "                   (train['card3']==card3)&\n",
    "                   (train['card4']==card4)&\n",
    "                   (train['card5']==card5)&\n",
    "                   (train['card6']==card6)\n",
    "                   #&(train['P_emaildomain']==P_emaildomain)\n",
    "                   #&(train['R_emaildomain']==R_emaildomain)\n",
    "                   ]"
   ]
  },
  {
   "cell_type": "code",
   "execution_count": 85,
   "metadata": {},
   "outputs": [
    {
     "data": {
      "text/plain": [
       "(51, 434)"
      ]
     },
     "execution_count": 85,
     "metadata": {},
     "output_type": "execute_result"
    }
   ],
   "source": [
    "train_slice.shape"
   ]
  },
  {
   "cell_type": "code",
   "execution_count": 86,
   "metadata": {},
   "outputs": [
    {
     "name": "stderr",
     "output_type": "stream",
     "text": [
      "/usr/local/lib/python3.6/dist-packages/ipykernel_launcher.py:1: SettingWithCopyWarning: \n",
      "A value is trying to be set on a copy of a slice from a DataFrame.\n",
      "Try using .loc[row_indexer,col_indexer] = value instead\n",
      "\n",
      "See the caveats in the documentation: http://pandas.pydata.org/pandas-docs/stable/indexing.html#indexing-view-versus-copy\n",
      "  \"\"\"Entry point for launching an IPython kernel.\n"
     ]
    }
   ],
   "source": [
    "train_slice['DaysFromStart'] = np.round(train_slice['TransactionDT']/(60*60*24),0)"
   ]
  },
  {
   "cell_type": "code",
   "execution_count": 87,
   "metadata": {},
   "outputs": [
    {
     "name": "stderr",
     "output_type": "stream",
     "text": [
      "/usr/local/lib/python3.6/dist-packages/ipykernel_launcher.py:1: SettingWithCopyWarning: \n",
      "A value is trying to be set on a copy of a slice from a DataFrame.\n",
      "Try using .loc[row_indexer,col_indexer] = value instead\n",
      "\n",
      "See the caveats in the documentation: http://pandas.pydata.org/pandas-docs/stable/indexing.html#indexing-view-versus-copy\n",
      "  \"\"\"Entry point for launching an IPython kernel.\n"
     ]
    }
   ],
   "source": [
    "train_slice['DaysFromPreviousTransaction'] = train_slice['DaysFromStart'].diff()"
   ]
  },
  {
   "cell_type": "code",
   "execution_count": 89,
   "metadata": {},
   "outputs": [],
   "source": [
    "features = ['TransactionID', 'TransactionDT', 'D1', 'D2', 'D3', 'DaysFromStart', 'DaysFromPreviousTransaction']"
   ]
  },
  {
   "cell_type": "code",
   "execution_count": 91,
   "metadata": {},
   "outputs": [
    {
     "data": {
      "text/html": [
       "<div>\n",
       "<style scoped>\n",
       "    .dataframe tbody tr th:only-of-type {\n",
       "        vertical-align: middle;\n",
       "    }\n",
       "\n",
       "    .dataframe tbody tr th {\n",
       "        vertical-align: top;\n",
       "    }\n",
       "\n",
       "    .dataframe thead th {\n",
       "        text-align: right;\n",
       "    }\n",
       "</style>\n",
       "<table border=\"1\" class=\"dataframe\">\n",
       "  <thead>\n",
       "    <tr style=\"text-align: right;\">\n",
       "      <th></th>\n",
       "      <th>TransactionID</th>\n",
       "      <th>TransactionDT</th>\n",
       "      <th>D1</th>\n",
       "      <th>D2</th>\n",
       "      <th>D3</th>\n",
       "      <th>DaysFromStart</th>\n",
       "      <th>DaysFromPreviousTransaction</th>\n",
       "    </tr>\n",
       "  </thead>\n",
       "  <tbody>\n",
       "    <tr>\n",
       "      <th>94917</th>\n",
       "      <td>3081917</td>\n",
       "      <td>1960442</td>\n",
       "      <td>7.0</td>\n",
       "      <td>7.0</td>\n",
       "      <td>7.0</td>\n",
       "      <td>23.0</td>\n",
       "      <td>7.0</td>\n",
       "    </tr>\n",
       "    <tr>\n",
       "      <th>94971</th>\n",
       "      <td>3081971</td>\n",
       "      <td>1960715</td>\n",
       "      <td>7.0</td>\n",
       "      <td>7.0</td>\n",
       "      <td>0.0</td>\n",
       "      <td>23.0</td>\n",
       "      <td>0.0</td>\n",
       "    </tr>\n",
       "    <tr>\n",
       "      <th>127897</th>\n",
       "      <td>3114897</td>\n",
       "      <td>2552390</td>\n",
       "      <td>14.0</td>\n",
       "      <td>14.0</td>\n",
       "      <td>7.0</td>\n",
       "      <td>30.0</td>\n",
       "      <td>5.0</td>\n",
       "    </tr>\n",
       "    <tr>\n",
       "      <th>149023</th>\n",
       "      <td>3136023</td>\n",
       "      <td>3079992</td>\n",
       "      <td>42.0</td>\n",
       "      <td>42.0</td>\n",
       "      <td>42.0</td>\n",
       "      <td>36.0</td>\n",
       "      <td>6.0</td>\n",
       "    </tr>\n",
       "    <tr>\n",
       "      <th>173207</th>\n",
       "      <td>3160207</td>\n",
       "      <td>3766476</td>\n",
       "      <td>7.0</td>\n",
       "      <td>7.0</td>\n",
       "      <td>7.0</td>\n",
       "      <td>44.0</td>\n",
       "      <td>7.0</td>\n",
       "    </tr>\n",
       "    <tr>\n",
       "      <th>173245</th>\n",
       "      <td>3160245</td>\n",
       "      <td>3767446</td>\n",
       "      <td>7.0</td>\n",
       "      <td>7.0</td>\n",
       "      <td>0.0</td>\n",
       "      <td>44.0</td>\n",
       "      <td>0.0</td>\n",
       "    </tr>\n",
       "    <tr>\n",
       "      <th>173265</th>\n",
       "      <td>3160265</td>\n",
       "      <td>3767900</td>\n",
       "      <td>7.0</td>\n",
       "      <td>7.0</td>\n",
       "      <td>0.0</td>\n",
       "      <td>44.0</td>\n",
       "      <td>0.0</td>\n",
       "    </tr>\n",
       "    <tr>\n",
       "      <th>195191</th>\n",
       "      <td>3182191</td>\n",
       "      <td>4394650</td>\n",
       "      <td>56.0</td>\n",
       "      <td>NaN</td>\n",
       "      <td>56.0</td>\n",
       "      <td>51.0</td>\n",
       "      <td>2.0</td>\n",
       "    </tr>\n",
       "    <tr>\n",
       "      <th>206262</th>\n",
       "      <td>3193262</td>\n",
       "      <td>4741383</td>\n",
       "      <td>6.0</td>\n",
       "      <td>6.0</td>\n",
       "      <td>7.0</td>\n",
       "      <td>55.0</td>\n",
       "      <td>3.0</td>\n",
       "    </tr>\n",
       "    <tr>\n",
       "      <th>234094</th>\n",
       "      <td>3221094</td>\n",
       "      <td>5532727</td>\n",
       "      <td>57.0</td>\n",
       "      <td>57.0</td>\n",
       "      <td>57.0</td>\n",
       "      <td>64.0</td>\n",
       "      <td>2.0</td>\n",
       "    </tr>\n",
       "    <tr>\n",
       "      <th>249603</th>\n",
       "      <td>3236603</td>\n",
       "      <td>5948777</td>\n",
       "      <td>141.0</td>\n",
       "      <td>141.0</td>\n",
       "      <td>71.0</td>\n",
       "      <td>69.0</td>\n",
       "      <td>5.0</td>\n",
       "    </tr>\n",
       "    <tr>\n",
       "      <th>259840</th>\n",
       "      <td>3246840</td>\n",
       "      <td>6223178</td>\n",
       "      <td>78.0</td>\n",
       "      <td>NaN</td>\n",
       "      <td>77.0</td>\n",
       "      <td>72.0</td>\n",
       "      <td>3.0</td>\n",
       "    </tr>\n",
       "    <tr>\n",
       "      <th>265106</th>\n",
       "      <td>3252106</td>\n",
       "      <td>6401778</td>\n",
       "      <td>67.0</td>\n",
       "      <td>67.0</td>\n",
       "      <td>10.0</td>\n",
       "      <td>74.0</td>\n",
       "      <td>2.0</td>\n",
       "    </tr>\n",
       "    <tr>\n",
       "      <th>267197</th>\n",
       "      <td>3254197</td>\n",
       "      <td>6469731</td>\n",
       "      <td>147.0</td>\n",
       "      <td>147.0</td>\n",
       "      <td>6.0</td>\n",
       "      <td>75.0</td>\n",
       "      <td>1.0</td>\n",
       "    </tr>\n",
       "    <tr>\n",
       "      <th>280773</th>\n",
       "      <td>3267773</td>\n",
       "      <td>6830187</td>\n",
       "      <td>85.0</td>\n",
       "      <td>85.0</td>\n",
       "      <td>84.0</td>\n",
       "      <td>79.0</td>\n",
       "      <td>3.0</td>\n",
       "    </tr>\n",
       "    <tr>\n",
       "      <th>282838</th>\n",
       "      <td>3269838</td>\n",
       "      <td>6904036</td>\n",
       "      <td>28.0</td>\n",
       "      <td>28.0</td>\n",
       "      <td>28.0</td>\n",
       "      <td>80.0</td>\n",
       "      <td>1.0</td>\n",
       "    </tr>\n",
       "    <tr>\n",
       "      <th>293916</th>\n",
       "      <td>3280916</td>\n",
       "      <td>7252985</td>\n",
       "      <td>547.0</td>\n",
       "      <td>547.0</td>\n",
       "      <td>186.0</td>\n",
       "      <td>84.0</td>\n",
       "      <td>4.0</td>\n",
       "    </tr>\n",
       "    <tr>\n",
       "      <th>303931</th>\n",
       "      <td>3290931</td>\n",
       "      <td>7519275</td>\n",
       "      <td>93.0</td>\n",
       "      <td>93.0</td>\n",
       "      <td>8.0</td>\n",
       "      <td>87.0</td>\n",
       "      <td>3.0</td>\n",
       "    </tr>\n",
       "    <tr>\n",
       "      <th>377431</th>\n",
       "      <td>3364431</td>\n",
       "      <td>9427957</td>\n",
       "      <td>85.0</td>\n",
       "      <td>85.0</td>\n",
       "      <td>84.0</td>\n",
       "      <td>109.0</td>\n",
       "      <td>1.0</td>\n",
       "    </tr>\n",
       "    <tr>\n",
       "      <th>455941</th>\n",
       "      <td>3442941</td>\n",
       "      <td>11656699</td>\n",
       "      <td>12.0</td>\n",
       "      <td>12.0</td>\n",
       "      <td>12.0</td>\n",
       "      <td>135.0</td>\n",
       "      <td>12.0</td>\n",
       "    </tr>\n",
       "    <tr>\n",
       "      <th>459274</th>\n",
       "      <td>3446274</td>\n",
       "      <td>11771412</td>\n",
       "      <td>112.0</td>\n",
       "      <td>112.0</td>\n",
       "      <td>27.0</td>\n",
       "      <td>136.0</td>\n",
       "      <td>0.0</td>\n",
       "    </tr>\n",
       "    <tr>\n",
       "      <th>519445</th>\n",
       "      <td>3506445</td>\n",
       "      <td>13635668</td>\n",
       "      <td>0.0</td>\n",
       "      <td>0.0</td>\n",
       "      <td>0.0</td>\n",
       "      <td>158.0</td>\n",
       "      <td>0.0</td>\n",
       "    </tr>\n",
       "    <tr>\n",
       "      <th>575417</th>\n",
       "      <td>3562417</td>\n",
       "      <td>15286266</td>\n",
       "      <td>54.0</td>\n",
       "      <td>54.0</td>\n",
       "      <td>42.0</td>\n",
       "      <td>177.0</td>\n",
       "      <td>7.0</td>\n",
       "    </tr>\n",
       "    <tr>\n",
       "      <th>575546</th>\n",
       "      <td>3562546</td>\n",
       "      <td>15288091</td>\n",
       "      <td>0.0</td>\n",
       "      <td>NaN</td>\n",
       "      <td>0.0</td>\n",
       "      <td>177.0</td>\n",
       "      <td>0.0</td>\n",
       "    </tr>\n",
       "    <tr>\n",
       "      <th>575558</th>\n",
       "      <td>3562558</td>\n",
       "      <td>15288263</td>\n",
       "      <td>0.0</td>\n",
       "      <td>NaN</td>\n",
       "      <td>0.0</td>\n",
       "      <td>177.0</td>\n",
       "      <td>0.0</td>\n",
       "    </tr>\n",
       "    <tr>\n",
       "      <th>575562</th>\n",
       "      <td>3562562</td>\n",
       "      <td>15288304</td>\n",
       "      <td>0.0</td>\n",
       "      <td>NaN</td>\n",
       "      <td>0.0</td>\n",
       "      <td>177.0</td>\n",
       "      <td>0.0</td>\n",
       "    </tr>\n",
       "    <tr>\n",
       "      <th>575635</th>\n",
       "      <td>3562635</td>\n",
       "      <td>15289232</td>\n",
       "      <td>0.0</td>\n",
       "      <td>NaN</td>\n",
       "      <td>0.0</td>\n",
       "      <td>177.0</td>\n",
       "      <td>0.0</td>\n",
       "    </tr>\n",
       "    <tr>\n",
       "      <th>586890</th>\n",
       "      <td>3573890</td>\n",
       "      <td>15707243</td>\n",
       "      <td>5.0</td>\n",
       "      <td>5.0</td>\n",
       "      <td>5.0</td>\n",
       "      <td>182.0</td>\n",
       "      <td>5.0</td>\n",
       "    </tr>\n",
       "    <tr>\n",
       "      <th>587007</th>\n",
       "      <td>3574007</td>\n",
       "      <td>15709629</td>\n",
       "      <td>5.0</td>\n",
       "      <td>5.0</td>\n",
       "      <td>0.0</td>\n",
       "      <td>182.0</td>\n",
       "      <td>0.0</td>\n",
       "    </tr>\n",
       "  </tbody>\n",
       "</table>\n",
       "</div>"
      ],
      "text/plain": [
       "        TransactionID  TransactionDT     D1     D2     D3  DaysFromStart  \\\n",
       "94917         3081917        1960442    7.0    7.0    7.0           23.0   \n",
       "94971         3081971        1960715    7.0    7.0    0.0           23.0   \n",
       "127897        3114897        2552390   14.0   14.0    7.0           30.0   \n",
       "149023        3136023        3079992   42.0   42.0   42.0           36.0   \n",
       "173207        3160207        3766476    7.0    7.0    7.0           44.0   \n",
       "173245        3160245        3767446    7.0    7.0    0.0           44.0   \n",
       "173265        3160265        3767900    7.0    7.0    0.0           44.0   \n",
       "195191        3182191        4394650   56.0    NaN   56.0           51.0   \n",
       "206262        3193262        4741383    6.0    6.0    7.0           55.0   \n",
       "234094        3221094        5532727   57.0   57.0   57.0           64.0   \n",
       "249603        3236603        5948777  141.0  141.0   71.0           69.0   \n",
       "259840        3246840        6223178   78.0    NaN   77.0           72.0   \n",
       "265106        3252106        6401778   67.0   67.0   10.0           74.0   \n",
       "267197        3254197        6469731  147.0  147.0    6.0           75.0   \n",
       "280773        3267773        6830187   85.0   85.0   84.0           79.0   \n",
       "282838        3269838        6904036   28.0   28.0   28.0           80.0   \n",
       "293916        3280916        7252985  547.0  547.0  186.0           84.0   \n",
       "303931        3290931        7519275   93.0   93.0    8.0           87.0   \n",
       "377431        3364431        9427957   85.0   85.0   84.0          109.0   \n",
       "455941        3442941       11656699   12.0   12.0   12.0          135.0   \n",
       "459274        3446274       11771412  112.0  112.0   27.0          136.0   \n",
       "519445        3506445       13635668    0.0    0.0    0.0          158.0   \n",
       "575417        3562417       15286266   54.0   54.0   42.0          177.0   \n",
       "575546        3562546       15288091    0.0    NaN    0.0          177.0   \n",
       "575558        3562558       15288263    0.0    NaN    0.0          177.0   \n",
       "575562        3562562       15288304    0.0    NaN    0.0          177.0   \n",
       "575635        3562635       15289232    0.0    NaN    0.0          177.0   \n",
       "586890        3573890       15707243    5.0    5.0    5.0          182.0   \n",
       "587007        3574007       15709629    5.0    5.0    0.0          182.0   \n",
       "\n",
       "        DaysFromPreviousTransaction  \n",
       "94917                           7.0  \n",
       "94971                           0.0  \n",
       "127897                          5.0  \n",
       "149023                          6.0  \n",
       "173207                          7.0  \n",
       "173245                          0.0  \n",
       "173265                          0.0  \n",
       "195191                          2.0  \n",
       "206262                          3.0  \n",
       "234094                          2.0  \n",
       "249603                          5.0  \n",
       "259840                          3.0  \n",
       "265106                          2.0  \n",
       "267197                          1.0  \n",
       "280773                          3.0  \n",
       "282838                          1.0  \n",
       "293916                          4.0  \n",
       "303931                          3.0  \n",
       "377431                          1.0  \n",
       "455941                         12.0  \n",
       "459274                          0.0  \n",
       "519445                          0.0  \n",
       "575417                          7.0  \n",
       "575546                          0.0  \n",
       "575558                          0.0  \n",
       "575562                          0.0  \n",
       "575635                          0.0  \n",
       "586890                          5.0  \n",
       "587007                          0.0  "
      ]
     },
     "execution_count": 91,
     "metadata": {},
     "output_type": "execute_result"
    }
   ],
   "source": [
    "train_slice[train_slice['D3'].notnull()][features]"
   ]
  },
  {
   "cell_type": "code",
   "execution_count": 92,
   "metadata": {},
   "outputs": [],
   "source": [
    "column_names = ['V1','V2','V3','V4','V5','V6','V7','V8','V9','V10','V11','ProductCD']"
   ]
  },
  {
   "cell_type": "code",
   "execution_count": 93,
   "metadata": {},
   "outputs": [
    {
     "data": {
      "text/html": [
       "<div>\n",
       "<style scoped>\n",
       "    .dataframe tbody tr th:only-of-type {\n",
       "        vertical-align: middle;\n",
       "    }\n",
       "\n",
       "    .dataframe tbody tr th {\n",
       "        vertical-align: top;\n",
       "    }\n",
       "\n",
       "    .dataframe thead th {\n",
       "        text-align: right;\n",
       "    }\n",
       "</style>\n",
       "<table border=\"1\" class=\"dataframe\">\n",
       "  <thead>\n",
       "    <tr style=\"text-align: right;\">\n",
       "      <th></th>\n",
       "      <th>V1</th>\n",
       "      <th>V2</th>\n",
       "      <th>V3</th>\n",
       "      <th>V4</th>\n",
       "      <th>V5</th>\n",
       "      <th>V6</th>\n",
       "      <th>V7</th>\n",
       "      <th>V8</th>\n",
       "      <th>V9</th>\n",
       "      <th>V10</th>\n",
       "      <th>V11</th>\n",
       "      <th>ProductCD</th>\n",
       "    </tr>\n",
       "  </thead>\n",
       "  <tbody>\n",
       "    <tr>\n",
       "      <th>0</th>\n",
       "      <td>1.0</td>\n",
       "      <td>1.0</td>\n",
       "      <td>1.0</td>\n",
       "      <td>1.0</td>\n",
       "      <td>1.0</td>\n",
       "      <td>1.0</td>\n",
       "      <td>1.0</td>\n",
       "      <td>1.0</td>\n",
       "      <td>1.0</td>\n",
       "      <td>0.0</td>\n",
       "      <td>0.0</td>\n",
       "      <td>W</td>\n",
       "    </tr>\n",
       "    <tr>\n",
       "      <th>1</th>\n",
       "      <td>NaN</td>\n",
       "      <td>NaN</td>\n",
       "      <td>NaN</td>\n",
       "      <td>NaN</td>\n",
       "      <td>NaN</td>\n",
       "      <td>NaN</td>\n",
       "      <td>NaN</td>\n",
       "      <td>NaN</td>\n",
       "      <td>NaN</td>\n",
       "      <td>NaN</td>\n",
       "      <td>NaN</td>\n",
       "      <td>W</td>\n",
       "    </tr>\n",
       "    <tr>\n",
       "      <th>2</th>\n",
       "      <td>1.0</td>\n",
       "      <td>1.0</td>\n",
       "      <td>1.0</td>\n",
       "      <td>1.0</td>\n",
       "      <td>1.0</td>\n",
       "      <td>1.0</td>\n",
       "      <td>1.0</td>\n",
       "      <td>1.0</td>\n",
       "      <td>1.0</td>\n",
       "      <td>0.0</td>\n",
       "      <td>0.0</td>\n",
       "      <td>W</td>\n",
       "    </tr>\n",
       "    <tr>\n",
       "      <th>3</th>\n",
       "      <td>NaN</td>\n",
       "      <td>NaN</td>\n",
       "      <td>NaN</td>\n",
       "      <td>NaN</td>\n",
       "      <td>NaN</td>\n",
       "      <td>NaN</td>\n",
       "      <td>NaN</td>\n",
       "      <td>NaN</td>\n",
       "      <td>NaN</td>\n",
       "      <td>NaN</td>\n",
       "      <td>NaN</td>\n",
       "      <td>W</td>\n",
       "    </tr>\n",
       "    <tr>\n",
       "      <th>4</th>\n",
       "      <td>NaN</td>\n",
       "      <td>NaN</td>\n",
       "      <td>NaN</td>\n",
       "      <td>NaN</td>\n",
       "      <td>NaN</td>\n",
       "      <td>NaN</td>\n",
       "      <td>NaN</td>\n",
       "      <td>NaN</td>\n",
       "      <td>NaN</td>\n",
       "      <td>NaN</td>\n",
       "      <td>NaN</td>\n",
       "      <td>H</td>\n",
       "    </tr>\n",
       "  </tbody>\n",
       "</table>\n",
       "</div>"
      ],
      "text/plain": [
       "    V1   V2   V3   V4   V5   V6   V7   V8   V9  V10  V11 ProductCD\n",
       "0  1.0  1.0  1.0  1.0  1.0  1.0  1.0  1.0  1.0  0.0  0.0         W\n",
       "1  NaN  NaN  NaN  NaN  NaN  NaN  NaN  NaN  NaN  NaN  NaN         W\n",
       "2  1.0  1.0  1.0  1.0  1.0  1.0  1.0  1.0  1.0  0.0  0.0         W\n",
       "3  NaN  NaN  NaN  NaN  NaN  NaN  NaN  NaN  NaN  NaN  NaN         W\n",
       "4  NaN  NaN  NaN  NaN  NaN  NaN  NaN  NaN  NaN  NaN  NaN         H"
      ]
     },
     "execution_count": 93,
     "metadata": {},
     "output_type": "execute_result"
    }
   ],
   "source": [
    "train[column_names].head()"
   ]
  },
  {
   "cell_type": "code",
   "execution_count": 94,
   "metadata": {},
   "outputs": [],
   "source": [
    "train['group1'] = train['V1'].isnull()*1"
   ]
  },
  {
   "cell_type": "code",
   "execution_count": 96,
   "metadata": {},
   "outputs": [
    {
     "data": {
      "text/plain": [
       "W    439670\n",
       "C     68519\n",
       "R     37699\n",
       "H     33024\n",
       "S     11628\n",
       "Name: ProductCD, dtype: int64"
      ]
     },
     "execution_count": 96,
     "metadata": {},
     "output_type": "execute_result"
    }
   ],
   "source": [
    "train['ProductCD'].value_counts()"
   ]
  },
  {
   "cell_type": "code",
   "execution_count": 95,
   "metadata": {},
   "outputs": [
    {
     "data": {
      "text/plain": [
       "ProductCD\n",
       "C    1.000000\n",
       "H    1.000000\n",
       "R    1.000000\n",
       "S    1.000000\n",
       "W    0.292076\n",
       "Name: group1, dtype: float64"
      ]
     },
     "execution_count": 95,
     "metadata": {},
     "output_type": "execute_result"
    }
   ],
   "source": [
    "train.groupby('ProductCD')['group1'].mean()"
   ]
  },
  {
   "cell_type": "code",
   "execution_count": 97,
   "metadata": {},
   "outputs": [],
   "source": [
    "column_names = ['V281', 'V282', 'V283', 'V288', 'V289', 'V296', 'V300', 'V301', 'V313', 'V314', 'V315','ProductCD']"
   ]
  },
  {
   "cell_type": "code",
   "execution_count": 98,
   "metadata": {},
   "outputs": [
    {
     "data": {
      "text/html": [
       "<div>\n",
       "<style scoped>\n",
       "    .dataframe tbody tr th:only-of-type {\n",
       "        vertical-align: middle;\n",
       "    }\n",
       "\n",
       "    .dataframe tbody tr th {\n",
       "        vertical-align: top;\n",
       "    }\n",
       "\n",
       "    .dataframe thead th {\n",
       "        text-align: right;\n",
       "    }\n",
       "</style>\n",
       "<table border=\"1\" class=\"dataframe\">\n",
       "  <thead>\n",
       "    <tr style=\"text-align: right;\">\n",
       "      <th></th>\n",
       "      <th>V281</th>\n",
       "      <th>V282</th>\n",
       "      <th>V283</th>\n",
       "      <th>V288</th>\n",
       "      <th>V289</th>\n",
       "      <th>V296</th>\n",
       "      <th>V300</th>\n",
       "      <th>V301</th>\n",
       "      <th>V313</th>\n",
       "      <th>V314</th>\n",
       "      <th>V315</th>\n",
       "      <th>ProductCD</th>\n",
       "    </tr>\n",
       "  </thead>\n",
       "  <tbody>\n",
       "    <tr>\n",
       "      <th>0</th>\n",
       "      <td>0.0</td>\n",
       "      <td>1.0</td>\n",
       "      <td>1.0</td>\n",
       "      <td>0.0</td>\n",
       "      <td>0.0</td>\n",
       "      <td>0.0</td>\n",
       "      <td>0.0</td>\n",
       "      <td>0.0</td>\n",
       "      <td>0.0</td>\n",
       "      <td>0.0</td>\n",
       "      <td>0.0</td>\n",
       "      <td>W</td>\n",
       "    </tr>\n",
       "    <tr>\n",
       "      <th>1</th>\n",
       "      <td>0.0</td>\n",
       "      <td>1.0</td>\n",
       "      <td>1.0</td>\n",
       "      <td>0.0</td>\n",
       "      <td>0.0</td>\n",
       "      <td>0.0</td>\n",
       "      <td>0.0</td>\n",
       "      <td>0.0</td>\n",
       "      <td>0.0</td>\n",
       "      <td>0.0</td>\n",
       "      <td>0.0</td>\n",
       "      <td>W</td>\n",
       "    </tr>\n",
       "    <tr>\n",
       "      <th>2</th>\n",
       "      <td>0.0</td>\n",
       "      <td>1.0</td>\n",
       "      <td>1.0</td>\n",
       "      <td>0.0</td>\n",
       "      <td>0.0</td>\n",
       "      <td>0.0</td>\n",
       "      <td>0.0</td>\n",
       "      <td>0.0</td>\n",
       "      <td>0.0</td>\n",
       "      <td>0.0</td>\n",
       "      <td>0.0</td>\n",
       "      <td>W</td>\n",
       "    </tr>\n",
       "    <tr>\n",
       "      <th>3</th>\n",
       "      <td>0.0</td>\n",
       "      <td>0.0</td>\n",
       "      <td>0.0</td>\n",
       "      <td>0.0</td>\n",
       "      <td>0.0</td>\n",
       "      <td>0.0</td>\n",
       "      <td>0.0</td>\n",
       "      <td>0.0</td>\n",
       "      <td>0.0</td>\n",
       "      <td>0.0</td>\n",
       "      <td>0.0</td>\n",
       "      <td>W</td>\n",
       "    </tr>\n",
       "    <tr>\n",
       "      <th>4</th>\n",
       "      <td>0.0</td>\n",
       "      <td>1.0</td>\n",
       "      <td>1.0</td>\n",
       "      <td>0.0</td>\n",
       "      <td>0.0</td>\n",
       "      <td>0.0</td>\n",
       "      <td>0.0</td>\n",
       "      <td>0.0</td>\n",
       "      <td>0.0</td>\n",
       "      <td>0.0</td>\n",
       "      <td>0.0</td>\n",
       "      <td>H</td>\n",
       "    </tr>\n",
       "  </tbody>\n",
       "</table>\n",
       "</div>"
      ],
      "text/plain": [
       "   V281  V282  V283  V288  V289  V296  V300  V301  V313  V314  V315 ProductCD\n",
       "0   0.0   1.0   1.0   0.0   0.0   0.0   0.0   0.0   0.0   0.0   0.0         W\n",
       "1   0.0   1.0   1.0   0.0   0.0   0.0   0.0   0.0   0.0   0.0   0.0         W\n",
       "2   0.0   1.0   1.0   0.0   0.0   0.0   0.0   0.0   0.0   0.0   0.0         W\n",
       "3   0.0   0.0   0.0   0.0   0.0   0.0   0.0   0.0   0.0   0.0   0.0         W\n",
       "4   0.0   1.0   1.0   0.0   0.0   0.0   0.0   0.0   0.0   0.0   0.0         H"
      ]
     },
     "execution_count": 98,
     "metadata": {},
     "output_type": "execute_result"
    }
   ],
   "source": [
    "train[column_names].head()"
   ]
  },
  {
   "cell_type": "code",
   "execution_count": 99,
   "metadata": {},
   "outputs": [],
   "source": [
    "train['group1'] = train['V282'].isnull()*1"
   ]
  },
  {
   "cell_type": "code",
   "execution_count": 100,
   "metadata": {},
   "outputs": [
    {
     "data": {
      "text/plain": [
       "W    439670\n",
       "C     68519\n",
       "R     37699\n",
       "H     33024\n",
       "S     11628\n",
       "Name: ProductCD, dtype: int64"
      ]
     },
     "execution_count": 100,
     "metadata": {},
     "output_type": "execute_result"
    }
   ],
   "source": [
    "train['ProductCD'].value_counts()"
   ]
  },
  {
   "cell_type": "code",
   "execution_count": 101,
   "metadata": {},
   "outputs": [
    {
     "data": {
      "text/plain": [
       "ProductCD\n",
       "C    0.002846\n",
       "H    0.000666\n",
       "R    0.000504\n",
       "S    0.000000\n",
       "W    0.002349\n",
       "Name: group1, dtype: float64"
      ]
     },
     "execution_count": 101,
     "metadata": {},
     "output_type": "execute_result"
    }
   ],
   "source": [
    "train.groupby('ProductCD')['group1'].mean()"
   ]
  },
  {
   "cell_type": "code",
   "execution_count": 107,
   "metadata": {},
   "outputs": [
    {
     "name": "stdout",
     "output_type": "stream",
     "text": [
      "W\n",
      "M5     0.454004\n",
      "M6     0.042054\n",
      "M7     0.444413\n",
      "M8     0.444383\n",
      "M9     0.444383\n",
      "V1     0.292076\n",
      "V2     0.292076\n",
      "V3     0.292076\n",
      "V4     0.292076\n",
      "V5     0.292076\n",
      "V6     0.292076\n",
      "V7     0.292076\n",
      "V8     0.292076\n",
      "V9     0.292076\n",
      "V10    0.292076\n",
      "V11    0.292076\n",
      "V12    0.000573\n",
      "V13    0.000573\n",
      "V14    0.000573\n",
      "V15    0.000573\n",
      "V16    0.000573\n",
      "V17    0.000573\n",
      "V18    0.000573\n",
      "V19    0.000573\n",
      "V20    0.000573\n",
      "V21    0.000573\n",
      "V22    0.000573\n",
      "V23    0.000573\n",
      "V24    0.000573\n",
      "V25    0.000573\n",
      "V26    0.000573\n",
      "V27    0.000573\n",
      "V28    0.000573\n",
      "V29    0.000573\n",
      "V30    0.000573\n",
      "V31    0.000573\n",
      "V32    0.000573\n",
      "V33    0.000573\n",
      "V34    0.000573\n",
      "V35    0.201633\n",
      "V36    0.201633\n",
      "V37    0.201633\n",
      "V38    0.201633\n",
      "V39    0.201633\n",
      "V40    0.201633\n",
      "V41    0.201633\n",
      "V42    0.201633\n",
      "V43    0.201633\n",
      "V44    0.201633\n",
      "V45    0.201633\n",
      "dtype: float64\n",
      "H\n",
      "M5     1.000000\n",
      "M6     1.000000\n",
      "M7     1.000000\n",
      "M8     1.000000\n",
      "M9     1.000000\n",
      "V1     1.000000\n",
      "V2     1.000000\n",
      "V3     1.000000\n",
      "V4     1.000000\n",
      "V5     1.000000\n",
      "V6     1.000000\n",
      "V7     1.000000\n",
      "V8     1.000000\n",
      "V9     1.000000\n",
      "V10    1.000000\n",
      "V11    1.000000\n",
      "V12    0.937137\n",
      "V13    0.937137\n",
      "V14    0.937137\n",
      "V15    0.937137\n",
      "V16    0.937137\n",
      "V17    0.937137\n",
      "V18    0.937137\n",
      "V19    0.937137\n",
      "V20    0.937137\n",
      "V21    0.937137\n",
      "V22    0.937137\n",
      "V23    0.937137\n",
      "V24    0.937137\n",
      "V25    0.937137\n",
      "V26    0.937137\n",
      "V27    0.937137\n",
      "V28    0.937137\n",
      "V29    0.937137\n",
      "V30    0.937137\n",
      "V31    0.937137\n",
      "V32    0.937137\n",
      "V33    0.937137\n",
      "V34    0.937137\n",
      "V35    0.943435\n",
      "V36    0.943435\n",
      "V37    0.943435\n",
      "V38    0.943435\n",
      "V39    0.943435\n",
      "V40    0.943435\n",
      "V41    0.943435\n",
      "V42    0.943435\n",
      "V43    0.943435\n",
      "V44    0.943435\n",
      "V45    0.943435\n",
      "dtype: float64\n",
      "C\n",
      "M5     1.000000\n",
      "M6     1.000000\n",
      "M7     1.000000\n",
      "M8     1.000000\n",
      "M9     1.000000\n",
      "V1     1.000000\n",
      "V2     1.000000\n",
      "V3     1.000000\n",
      "V4     1.000000\n",
      "V5     1.000000\n",
      "V6     1.000000\n",
      "V7     1.000000\n",
      "V8     1.000000\n",
      "V9     1.000000\n",
      "V10    1.000000\n",
      "V11    1.000000\n",
      "V12    0.051052\n",
      "V13    0.051052\n",
      "V14    0.051052\n",
      "V15    0.051052\n",
      "V16    0.051052\n",
      "V17    0.051052\n",
      "V18    0.051052\n",
      "V19    0.051052\n",
      "V20    0.051052\n",
      "V21    0.051052\n",
      "V22    0.051052\n",
      "V23    0.051052\n",
      "V24    0.051052\n",
      "V25    0.051052\n",
      "V26    0.051052\n",
      "V27    0.051052\n",
      "V28    0.051052\n",
      "V29    0.051052\n",
      "V30    0.051052\n",
      "V31    0.051052\n",
      "V32    0.051052\n",
      "V33    0.051052\n",
      "V34    0.051052\n",
      "V35    0.060757\n",
      "V36    0.060757\n",
      "V37    0.060757\n",
      "V38    0.060757\n",
      "V39    0.060757\n",
      "V40    0.060757\n",
      "V41    0.060757\n",
      "V42    0.060757\n",
      "V43    0.060757\n",
      "V44    0.060757\n",
      "V45    0.060757\n",
      "dtype: float64\n",
      "S\n",
      "M5     1.000000\n",
      "M6     1.000000\n",
      "M7     1.000000\n",
      "M8     1.000000\n",
      "M9     1.000000\n",
      "V1     1.000000\n",
      "V2     1.000000\n",
      "V3     1.000000\n",
      "V4     1.000000\n",
      "V5     1.000000\n",
      "V6     1.000000\n",
      "V7     1.000000\n",
      "V8     1.000000\n",
      "V9     1.000000\n",
      "V10    1.000000\n",
      "V11    1.000000\n",
      "V12    0.636825\n",
      "V13    0.636825\n",
      "V14    0.636825\n",
      "V15    0.636825\n",
      "V16    0.636825\n",
      "V17    0.636825\n",
      "V18    0.636825\n",
      "V19    0.636825\n",
      "V20    0.636825\n",
      "V21    0.636825\n",
      "V22    0.636825\n",
      "V23    0.636825\n",
      "V24    0.636825\n",
      "V25    0.636825\n",
      "V26    0.636825\n",
      "V27    0.636825\n",
      "V28    0.636825\n",
      "V29    0.636825\n",
      "V30    0.636825\n",
      "V31    0.636825\n",
      "V32    0.636825\n",
      "V33    0.636825\n",
      "V34    0.636825\n",
      "V35    1.000000\n",
      "V36    1.000000\n",
      "V37    1.000000\n",
      "V38    1.000000\n",
      "V39    1.000000\n",
      "V40    1.000000\n",
      "V41    1.000000\n",
      "V42    1.000000\n",
      "V43    1.000000\n",
      "V44    1.000000\n",
      "V45    1.000000\n",
      "dtype: float64\n",
      "R\n",
      "M5     1.000000\n",
      "M6     1.000000\n",
      "M7     1.000000\n",
      "M8     1.000000\n",
      "M9     1.000000\n",
      "V1     1.000000\n",
      "V2     1.000000\n",
      "V3     1.000000\n",
      "V4     1.000000\n",
      "V5     1.000000\n",
      "V6     1.000000\n",
      "V7     1.000000\n",
      "V8     1.000000\n",
      "V9     1.000000\n",
      "V10    1.000000\n",
      "V11    1.000000\n",
      "V12    0.901085\n",
      "V13    0.901085\n",
      "V14    0.901085\n",
      "V15    0.901085\n",
      "V16    0.901085\n",
      "V17    0.901085\n",
      "V18    0.901085\n",
      "V19    0.901085\n",
      "V20    0.901085\n",
      "V21    0.901085\n",
      "V22    0.901085\n",
      "V23    0.901085\n",
      "V24    0.901085\n",
      "V25    0.901085\n",
      "V26    0.901085\n",
      "V27    0.901085\n",
      "V28    0.901085\n",
      "V29    0.901085\n",
      "V30    0.901085\n",
      "V31    0.901085\n",
      "V32    0.901085\n",
      "V33    0.901085\n",
      "V34    0.901085\n",
      "V35    0.885169\n",
      "V36    0.885169\n",
      "V37    0.885169\n",
      "V38    0.885169\n",
      "V39    0.885169\n",
      "V40    0.885169\n",
      "V41    0.885169\n",
      "V42    0.885169\n",
      "V43    0.885169\n",
      "V44    0.885169\n",
      "V45    0.885169\n",
      "dtype: float64\n"
     ]
    }
   ],
   "source": [
    "for i in train['ProductCD'].unique():\n",
    "    print(i)\n",
    "    print(train[train['ProductCD'] ==i].\\\n",
    "          iloc[:,50:100].isnull().sum() / train[train['ProductCD'] ==i].shape[0])"
   ]
  }
 ],
 "metadata": {
  "kernelspec": {
   "display_name": "Python 3",
   "language": "python",
   "name": "python3"
  },
  "language_info": {
   "codemirror_mode": {
    "name": "ipython",
    "version": 3
   },
   "file_extension": ".py",
   "mimetype": "text/x-python",
   "name": "python",
   "nbconvert_exporter": "python",
   "pygments_lexer": "ipython3",
   "version": "3.6.8"
  }
 },
 "nbformat": 4,
 "nbformat_minor": 2
}
